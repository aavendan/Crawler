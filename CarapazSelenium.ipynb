{
 "cells": [
  {
   "cell_type": "code",
   "execution_count": 1,
   "metadata": {},
   "outputs": [],
   "source": [
    "import requests\n",
    "import urllib.request\n",
    "import time\n",
    "from lxml import html\n",
    "import requests\n",
    "import pandas as pd\n",
    "from bs4 import BeautifulSoup as bs\n",
    "from selenium import webdriver\n",
    "from webdriver_manager.chrome import ChromeDriverManager\n",
    "import time\n",
    "import re\n",
    "from urllib.request import urlopen\n",
    "import json\n",
    "from pandas.io.json import json_normalize\n",
    "import pandas as pd, numpy as np\n",
    "import random as rd"
   ]
  },
  {
   "cell_type": "code",
   "execution_count": 29,
   "metadata": {},
   "outputs": [],
   "source": [
    "def requestIG(url, keyword, last):\n",
    "    browser.get(url)\n",
    "    \n",
    "    last_height = browser.execute_script(\"return document.body.scrollHeight\")\n",
    "    \n",
    "    i = 0\n",
    "\n",
    "    while True:\n",
    "        \n",
    "        Pagelength = browser.execute_script(\"window.scrollTo(0, document.body.scrollHeight-100);\")\n",
    "\n",
    "        links=[]\n",
    "        source = browser.page_source\n",
    "        data=bs(source, 'html.parser')\n",
    "        body = data.find('body')\n",
    "        script = body.find('span')\n",
    "        for link in script.findAll('a'):\n",
    "             if re.match(\"/p\", link.get('href')):\n",
    "                    links.append('https://www.instagram.com'+link.get('href'))\n",
    "        #sleep time is required. If you don't use this Instagram may interrupt the script and doesn't scroll through pages\n",
    "        time.sleep(rd.randint(1,5)) \n",
    "        \n",
    "        # Calculate new scroll height and compare with last scroll height.\n",
    "        new_height = browser.execute_script(\"return document.body.scrollHeight\")\n",
    "\n",
    "        with open('key_'+keyword+'.txt', 'a') as file:  # Use file to refer to the file object\n",
    "            for link in links:\n",
    "                file.write(link+'\\n')\n",
    "        \n",
    "        if new_height == last_height:\n",
    "            break\n",
    "\n",
    "        last_height = new_height\n",
    "        i += 1\n",
    "                \n",
    "        print(i)\n"
   ]
  },
  {
   "cell_type": "code",
   "execution_count": 42,
   "metadata": {},
   "outputs": [],
   "source": [
    "#https://medium.com/@srujana.rao2/scraping-instagram-with-python-using-selenium-and-beautiful-soup-8b72c186a058\n",
    "#'girodeitalia2019', 'carchi', 'magliarosa', 'vincenzonibali','movistarteam','giroitalia','giro102'\n",
    "keyword = 'giro102'\n",
    "url = 'https://www.instagram.com/explore/tags/'+keyword+'/'\n",
    "chrome_options = webdriver.ChromeOptions()\n",
    "chrome_options.add_argument('--no-sandbox')\n",
    "\n",
    "prefs = {'profile.managed_default_content_settings.images':2}\n",
    "chrome_options.add_experimental_option(\"prefs\", prefs)\n",
    "\n",
    "capabilities = chrome_options.to_capabilities()\n",
    "\n",
    "browser = webdriver.Chrome(r\".\\chromedriver.exe\", desired_capabilities=capabilities, options=chrome_options)\n",
    "requestIG(url, keyword, 28318/10)\n",
    "\n",
    "browser.close()"
   ]
  },
  {
   "cell_type": "code",
   "execution_count": 43,
   "metadata": {},
   "outputs": [
    {
     "data": {
      "text/plain": [
       "(33, 1)"
      ]
     },
     "execution_count": 43,
     "metadata": {},
     "output_type": "execute_result"
    }
   ],
   "source": [
    "data = pd.read_csv('key_'+keyword+'.txt', names=[\"lnks\"])\n",
    "data.shape"
   ]
  },
  {
   "cell_type": "code",
   "execution_count": 44,
   "metadata": {},
   "outputs": [],
   "source": [
    "datalnks = data[\"lnks\"].unique()"
   ]
  },
  {
   "cell_type": "code",
   "execution_count": 45,
   "metadata": {},
   "outputs": [
    {
     "data": {
      "text/plain": [
       "33"
      ]
     },
     "execution_count": 45,
     "metadata": {},
     "output_type": "execute_result"
    }
   ],
   "source": [
    "len(datalnks)"
   ]
  }
 ],
 "metadata": {
  "kernelspec": {
   "display_name": "Python 3",
   "language": "python",
   "name": "python3"
  },
  "language_info": {
   "codemirror_mode": {
    "name": "ipython",
    "version": 3
   },
   "file_extension": ".py",
   "mimetype": "text/x-python",
   "name": "python",
   "nbconvert_exporter": "python",
   "pygments_lexer": "ipython3",
   "version": "3.7.0"
  }
 },
 "nbformat": 4,
 "nbformat_minor": 2
}
