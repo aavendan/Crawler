{
 "cells": [
  {
   "cell_type": "code",
   "execution_count": 1,
   "metadata": {},
   "outputs": [],
   "source": [
    "import requests\n",
    "import urllib.request\n",
    "import time\n",
    "from lxml import html\n",
    "import requests\n",
    "import pandas as pd\n",
    "from bs4 import BeautifulSoup as bs\n",
    "from selenium import webdriver\n",
    "from webdriver_manager.chrome import ChromeDriverManager\n",
    "import time\n",
    "import re\n",
    "from urllib.request import urlopen\n",
    "import json\n",
    "from pandas.io.json import json_normalize\n",
    "import pandas as pd, numpy as np"
   ]
  },
  {
   "cell_type": "code",
   "execution_count": 22,
   "metadata": {},
   "outputs": [],
   "source": [
    "#https://medium.com/@h4t0n/instagram-data-scraping-550c5f2fb6f1\n",
    "urlBase = 'https://www.instagram.com/explore/tags/carapaz/?__a=1'"
   ]
  },
  {
   "cell_type": "code",
   "execution_count": 27,
   "metadata": {},
   "outputs": [],
   "source": [
    "def requestJSON(url):\n",
    "    r = requests.get(url)\n",
    "    y = json.loads(r.text)\n",
    "    end_cursor = y['graphql']['hashtag']['edge_hashtag_to_media']['page_info']['end_cursor']\n",
    "    posts = y['graphql']['hashtag']['edge_hashtag_to_top_posts']['edges']\n",
    "    for post in posts:\n",
    "        print('https://www.instagram.com/p/{}'.format(post['node']['shortcode']))\n",
    "    return end_cursor"
   ]
  },
  {
   "cell_type": "code",
   "execution_count": 28,
   "metadata": {},
   "outputs": [
    {
     "name": "stdout",
     "output_type": "stream",
     "text": [
      "https://www.instagram.com/p/ByNmhqvAPoY\n",
      "https://www.instagram.com/p/ByVUtVFiYrb\n",
      "https://www.instagram.com/p/ByUrMlfCOFn\n",
      "https://www.instagram.com/p/ByNlGY6DMbh\n",
      "https://www.instagram.com/p/ByNkcoGju0r\n",
      "https://www.instagram.com/p/ByTDgQ3C_Yh\n",
      "https://www.instagram.com/p/ByNheR-DN6l\n",
      "https://www.instagram.com/p/ByOHp65iAPy\n",
      "https://www.instagram.com/p/ByNA9qhCtlR\n"
     ]
    }
   ],
   "source": [
    "end_cursor = requestJSON(urlBase)"
   ]
  },
  {
   "cell_type": "code",
   "execution_count": 30,
   "metadata": {},
   "outputs": [
    {
     "name": "stdout",
     "output_type": "stream",
     "text": [
      "https://www.instagram.com/p/ByNmhqvAPoY\n",
      "https://www.instagram.com/p/ByVUtVFiYrb\n",
      "https://www.instagram.com/p/ByUrMlfCOFn\n",
      "https://www.instagram.com/p/ByNlGY6DMbh\n",
      "https://www.instagram.com/p/ByNkcoGju0r\n",
      "https://www.instagram.com/p/ByTDgQ3C_Yh\n",
      "https://www.instagram.com/p/ByNheR-DN6l\n",
      "https://www.instagram.com/p/ByOHp65iAPy\n",
      "https://www.instagram.com/p/ByNA9qhCtlR\n"
     ]
    },
    {
     "data": {
      "text/plain": [
       "'QVFCVThpVU94QzlCaURBcXRmN0M3TjZjV1hEWTNRUkpTamRQMV9DMmpROTNTRkZuR1QwZ0hiVWNoTzZVQ2k1aGVNYnFXcVZEa2puSTFNcEpJSFdVV1RxRQ=='"
      ]
     },
     "execution_count": 30,
     "metadata": {},
     "output_type": "execute_result"
    }
   ],
   "source": [
    "requestJSON(urlBase+\"&max_id=\"+end_cursor)"
   ]
  }
 ],
 "metadata": {
  "kernelspec": {
   "display_name": "Python 3",
   "language": "python",
   "name": "python3"
  },
  "language_info": {
   "codemirror_mode": {
    "name": "ipython",
    "version": 3
   },
   "file_extension": ".py",
   "mimetype": "text/x-python",
   "name": "python",
   "nbconvert_exporter": "python",
   "pygments_lexer": "ipython3",
   "version": "3.7.0"
  }
 },
 "nbformat": 4,
 "nbformat_minor": 2
}
