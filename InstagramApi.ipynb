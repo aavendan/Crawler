{
 "cells": [
  {
   "cell_type": "code",
   "execution_count": null,
   "metadata": {},
   "outputs": [],
   "source": [
    "#https://gustavosaidler.com/data%20analysis/instagram-data-analysis/\n",
    "#https://github.com/LevPasha/Instagram-API-python/blob/master/InstagramAPI/InstagramAPI.py\n",
    "#https://getstream.io/blog/instagram-discovery-engine-tutorial/"
   ]
  },
  {
   "cell_type": "code",
   "execution_count": 6,
   "metadata": {},
   "outputs": [],
   "source": [
    "from InstagramAPI import InstagramAPI\n",
    "import pandas as pd\n",
    "from pandas.io.json import json_normalize\n",
    "import time"
   ]
  },
  {
   "cell_type": "code",
   "execution_count": 4,
   "metadata": {},
   "outputs": [
    {
     "name": "stdout",
     "output_type": "stream",
     "text": [
      "Request return 404 error!\n",
      "Login success!\n",
      "\n"
     ]
    }
   ],
   "source": [
    "def login_to_instagram(username, password):\n",
    "    api = InstagramAPI(username, password)\n",
    "    api.login()\n",
    "    \n",
    "    return api\n",
    "\n",
    "api = login_to_instagram('xallam','624nstgrmclassi')"
   ]
  },
  {
   "cell_type": "code",
   "execution_count": 7,
   "metadata": {},
   "outputs": [
    {
     "name": "stdout",
     "output_type": "stream",
     "text": [
      "18 posts retrieved so far...\n",
      "36 posts retrieved so far...\n",
      "54 posts retrieved so far...\n",
      "72 posts retrieved so far...\n",
      "90 posts retrieved so far...\n",
      "108 posts retrieved so far...\n",
      "126 posts retrieved so far...\n",
      "144 posts retrieved so far...\n",
      "162 posts retrieved so far...\n",
      "180 posts retrieved so far...\n",
      "198 posts retrieved so far...\n",
      "216 posts retrieved so far...\n",
      "234 posts retrieved so far...\n",
      "252 posts retrieved so far...\n",
      "270 posts retrieved so far...\n",
      "288 posts retrieved so far...\n",
      "306 posts retrieved so far...\n",
      "324 posts retrieved so far...\n",
      "342 posts retrieved so far...\n",
      "360 posts retrieved so far...\n",
      "378 posts retrieved so far...\n",
      "396 posts retrieved so far...\n",
      "414 posts retrieved so far...\n",
      "432 posts retrieved so far...\n",
      "450 posts retrieved so far...\n",
      "468 posts retrieved so far...\n",
      "486 posts retrieved so far...\n",
      "504 posts retrieved so far...\n",
      "522 posts retrieved so far...\n",
      "540 posts retrieved so far...\n",
      "558 posts retrieved so far...\n",
      "576 posts retrieved so far...\n",
      "594 posts retrieved so far...\n",
      "612 posts retrieved so far...\n",
      "630 posts retrieved so far...\n",
      "648 posts retrieved so far...\n",
      "666 posts retrieved so far...\n",
      "684 posts retrieved so far...\n",
      "702 posts retrieved so far...\n",
      "720 posts retrieved so far...\n",
      "738 posts retrieved so far...\n",
      "756 posts retrieved so far...\n",
      "774 posts retrieved so far...\n",
      "792 posts retrieved so far...\n",
      "810 posts retrieved so far...\n",
      "828 posts retrieved so far...\n",
      "846 posts retrieved so far...\n",
      "864 posts retrieved so far...\n",
      "882 posts retrieved so far...\n",
      "900 posts retrieved so far...\n",
      "Total posts retrieved: 901\n"
     ]
    }
   ],
   "source": [
    "def get_my_posts(api):\n",
    "    '''Retrieve all posts from own profile'''\n",
    "    my_posts = []\n",
    "    has_more_posts = True\n",
    "    max_id= ''\n",
    "\n",
    "    while has_more_posts:\n",
    "        api.getSelfUserFeed(maxid=max_id)\n",
    "        if api.LastJson['more_available'] is not True:\n",
    "            has_more_posts = False #stop condition\n",
    "\n",
    "        max_id = api.LastJson.get('next_max_id','')\n",
    "        my_posts.extend(api.LastJson['items']) #merge lists\n",
    "        time.sleep(2) # slows down to avoid flooding\n",
    "\n",
    "        if has_more_posts:\n",
    "            print(str(len(my_posts)) + ' posts retrieved so far...')\n",
    "\n",
    "    print('Total posts retrieved: ' + str(len(my_posts)))\n",
    "    \n",
    "    return my_posts\n",
    "\n",
    "my_posts = get_my_posts(api)"
   ]
  }
 ],
 "metadata": {
  "kernelspec": {
   "display_name": "Python 3",
   "language": "python",
   "name": "python3"
  },
  "language_info": {
   "codemirror_mode": {
    "name": "ipython",
    "version": 3
   },
   "file_extension": ".py",
   "mimetype": "text/x-python",
   "name": "python",
   "nbconvert_exporter": "python",
   "pygments_lexer": "ipython3",
   "version": "3.7.0"
  }
 },
 "nbformat": 4,
 "nbformat_minor": 2
}
